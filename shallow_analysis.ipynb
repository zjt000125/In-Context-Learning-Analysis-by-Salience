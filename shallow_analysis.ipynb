{
 "cells": [
  {
   "cell_type": "code",
   "execution_count": 3,
   "metadata": {
    "pycharm": {
     "name": "#%%\n"
    }
   },
   "outputs": [],
   "source": [
    "from icl.util_classes.arg_classes import ShallowArgs, DeepArgs, CompressArgs\n",
    "from sklearn.metrics import accuracy_score\n",
    "import numpy as np"
   ]
  },
  {
   "cell_type": "markdown",
   "metadata": {
    "collapsed": false,
    "pycharm": {
     "name": "#%% md\n"
    }
   },
   "source": [
    "change ShallowArgs to ShallowNonLabelArgs if you want to get the results of that"
   ]
  },
  {
   "cell_type": "code",
   "execution_count": 4,
   "metadata": {
    "pycharm": {
     "name": "#%%\n"
    }
   },
   "outputs": [],
   "source": [
    "def get_label(y):\n",
    "    return y.predictions[0].argmax(-1)\n",
    "\n",
    "def get_logits(y):\n",
    "    if y.predictions[2].shape[-1] > 30000:\n",
    "        return y.predictions[2]\n",
    "    else:\n",
    "        return y.predictions[3]\n",
    "\n",
    "def get_topk(y, k):\n",
    "    logits = get_logits(y)\n",
    "    indices = np.argpartition(logits, -k,axis=1)[:,-k:]\n",
    "    return indices\n",
    "\n",
    "def jaccard(a,b):\n",
    "    scores = []\n",
    "    for single_a, single_b in zip(a,b):\n",
    "        set_a = set(single_a)\n",
    "        set_b = set(single_b)\n",
    "        score = len(set_a.intersection(set_b))/len(set_a.union(set_b))\n",
    "        scores.append(score)\n",
    "    return np.array(scores).mean()"
   ]
  },
  {
   "cell_type": "code",
   "execution_count": 5,
   "metadata": {
    "pycharm": {
     "name": "#%%\n"
    }
   },
   "outputs": [
    {
     "name": "stderr",
     "output_type": "stream",
     "text": [
      "/home/jiantong/local/miniconda3/envs/anchor/lib/python3.10/site-packages/tqdm/auto.py:21: TqdmWarning: IProgress not found. Please update jupyter and ipywidgets. See https://ipywidgets.readthedocs.io/en/stable/user_install.html\n",
      "  from .autonotebook import tqdm as notebook_tqdm\n"
     ]
    }
   ],
   "source": [
    "from tqdm import tqdm\n",
    "import numpy as np\n",
    "from icl.utils.load_huggingface_dataset import load_huggingface_dataset_train_and_test\n",
    "import warnings\n",
    "\n",
    "def calculate_average_scores(seeds, task_name,sample_size=1000,model_name='gpt2-xl',mask_layer_num=5,demonstration_shot=1):\n",
    "    scores = []  \n",
    "    jaccards = []\n",
    "    dataset = load_huggingface_dataset_train_and_test(task_name)\n",
    "    if len(dataset['test']) < sample_size:\n",
    "        warnings.warn(\n",
    "            f\"sample_size: {sample_size} is larger than test set size: {len(dataset['test'])},\"\n",
    "            f\"actual_sample_size is {len(dataset['test'])}\")\n",
    "        actual_sample_size = len(dataset['test'])\n",
    "    else:\n",
    "        actual_sample_size = sample_size\n",
    "    \n",
    "    for seed in tqdm(seeds):\n",
    "        args = ShallowArgs(task_name=task_name, seeds=[seed],sample_size=sample_size,model_name=model_name,\n",
    "            mask_layer_pos='first',mask_layer_num=mask_layer_num,demonstration_shot=demonstration_shot)\n",
    "        y_first, = args.load_result()[0]\n",
    "        args = ShallowArgs(task_name=task_name, seeds=[seed],sample_size=sample_size,model_name=model_name,\n",
    "            mask_layer_pos='last',mask_layer_num=mask_layer_num,demonstration_shot=demonstration_shot)\n",
    "        y_last, = args.load_result()[0]\n",
    "        try:\n",
    "            args = CompressArgs(task_name=task_name, seeds=[seed],sample_size=sample_size,\n",
    "            model_name=model_name,demonstration_shot=demonstration_shot)\n",
    "            _, y_true, _, _ = args.load_result()[0]\n",
    "        except KeyboardInterrupt:\n",
    "            break\n",
    "        except:\n",
    "            args = DeepArgs(task_name=task_name, seeds=[seed],sample_size=sample_size,\n",
    "            model_name=model_name,demonstration_shot=demonstration_shot)\n",
    "            y_true, = args.load_result()[0]\n",
    "            \n",
    "        label_first, label_last, label_true = [get_label(_) for _ in [y_first,y_last,y_true]]\n",
    "\n",
    "        score_first = accuracy_score(label_true, label_first)\n",
    "        score_last = accuracy_score(label_true, label_last)\n",
    "        score_true = accuracy_score(label_true, label_true)\n",
    "        \n",
    "        scores.append((score_first, score_last, score_true))\n",
    "\n",
    "        jaccard_first = jaccard(get_topk(y_true, 10), get_topk(y_first, 10))\n",
    "        jaccard_last = jaccard(get_topk(y_true, 10), get_topk(y_last, 10))\n",
    "        jaccard_true = jaccard(get_topk(y_true, 10), get_topk(y_true, 10))\n",
    "        jaccards.append((jaccard_first, jaccard_last, jaccard_true))\n",
    "\n",
    "\n",
    "    average_scores = np.mean(scores, axis=0) \n",
    "    accuracy_jaccards = np.mean(jaccards, axis=0)\n",
    "    return average_scores, accuracy_jaccards"
   ]
  },
  {
   "cell_type": "code",
   "execution_count": 6,
   "metadata": {
    "pycharm": {
     "name": "#%%\n"
    }
   },
   "outputs": [
    {
     "name": "stderr",
     "output_type": "stream",
     "text": [
      "  0%|          | 0/4 [00:00<?, ?it/s]/tmp/ipykernel_2330879/2339093410.py:11: UserWarning: sample_size: 1000 is larger than test set size: 872,actual_sample_size is 872\n",
      "  warnings.warn(\n",
      "  0%|          | 0/5 [00:00<?, ?it/s]\n",
      "  0%|          | 0/4 [01:02<?, ?it/s]\n"
     ]
    },
    {
     "ename": "FileNotFoundError",
     "evalue": "[Errno 2] No such file or directory: '/home/jiantong/project/python/label-words-are-anchors/results/shallow/sst2_gpt2-xl_1_train_test_1000_42_1_first_None'",
     "output_type": "error",
     "traceback": [
      "\u001b[0;31m---------------------------------------------------------------------------\u001b[0m",
      "\u001b[0;31mFileNotFoundError\u001b[0m                         Traceback (most recent call last)",
      "Cell \u001b[0;32mIn[6], line 12\u001b[0m\n\u001b[1;32m      9\u001b[0m single_table \u001b[38;5;241m=\u001b[39m []\n\u001b[1;32m     11\u001b[0m \u001b[38;5;28;01mfor\u001b[39;00m task \u001b[38;5;129;01min\u001b[39;00m tqdm(tasks):\n\u001b[0;32m---> 12\u001b[0m     average_scores \u001b[38;5;241m=\u001b[39m \u001b[43mcalculate_average_scores\u001b[49m\u001b[43m(\u001b[49m\u001b[43mseeds\u001b[49m\u001b[43m,\u001b[49m\u001b[43m \u001b[49m\u001b[43mtask\u001b[49m\u001b[43m,\u001b[49m\u001b[43msample_size\u001b[49m\u001b[38;5;241;43m=\u001b[39;49m\u001b[38;5;241;43m1000\u001b[39;49m\u001b[43m,\u001b[49m\u001b[43mmodel_name\u001b[49m\u001b[38;5;241;43m=\u001b[39;49m\u001b[43mmodel_name\u001b[49m\u001b[43m,\u001b[49m\u001b[43mmask_layer_num\u001b[49m\u001b[38;5;241;43m=\u001b[39;49m\u001b[43mlayer\u001b[49m\u001b[43m,\u001b[49m\u001b[43mdemonstration_shot\u001b[49m\u001b[38;5;241;43m=\u001b[39;49m\u001b[43mdemonstration_shot\u001b[49m\u001b[43m)\u001b[49m\n\u001b[1;32m     13\u001b[0m     row \u001b[38;5;241m=\u001b[39m [task] \u001b[38;5;241m+\u001b[39m \u001b[38;5;28mlist\u001b[39m(average_scores)\n\u001b[1;32m     14\u001b[0m     single_table\u001b[38;5;241m.\u001b[39mappend(row)\n",
      "Cell \u001b[0;32mIn[5], line 21\u001b[0m, in \u001b[0;36mcalculate_average_scores\u001b[0;34m(seeds, task_name, sample_size, model_name, mask_layer_num, demonstration_shot)\u001b[0m\n\u001b[1;32m     18\u001b[0m \u001b[38;5;28;01mfor\u001b[39;00m seed \u001b[38;5;129;01min\u001b[39;00m tqdm(seeds):\n\u001b[1;32m     19\u001b[0m     args \u001b[38;5;241m=\u001b[39m ShallowArgs(task_name\u001b[38;5;241m=\u001b[39mtask_name, seeds\u001b[38;5;241m=\u001b[39m[seed],sample_size\u001b[38;5;241m=\u001b[39msample_size,model_name\u001b[38;5;241m=\u001b[39mmodel_name,\n\u001b[1;32m     20\u001b[0m         mask_layer_pos\u001b[38;5;241m=\u001b[39m\u001b[38;5;124m'\u001b[39m\u001b[38;5;124mfirst\u001b[39m\u001b[38;5;124m'\u001b[39m,mask_layer_num\u001b[38;5;241m=\u001b[39mmask_layer_num,demonstration_shot\u001b[38;5;241m=\u001b[39mdemonstration_shot)\n\u001b[0;32m---> 21\u001b[0m     y_first, \u001b[38;5;241m=\u001b[39m \u001b[43margs\u001b[49m\u001b[38;5;241;43m.\u001b[39;49m\u001b[43mload_result\u001b[49m\u001b[43m(\u001b[49m\u001b[43m)\u001b[49m[\u001b[38;5;241m0\u001b[39m]\n\u001b[1;32m     22\u001b[0m     args \u001b[38;5;241m=\u001b[39m ShallowArgs(task_name\u001b[38;5;241m=\u001b[39mtask_name, seeds\u001b[38;5;241m=\u001b[39m[seed],sample_size\u001b[38;5;241m=\u001b[39msample_size,model_name\u001b[38;5;241m=\u001b[39mmodel_name,\n\u001b[1;32m     23\u001b[0m         mask_layer_pos\u001b[38;5;241m=\u001b[39m\u001b[38;5;124m'\u001b[39m\u001b[38;5;124mlast\u001b[39m\u001b[38;5;124m'\u001b[39m,mask_layer_num\u001b[38;5;241m=\u001b[39mmask_layer_num,demonstration_shot\u001b[38;5;241m=\u001b[39mdemonstration_shot)\n\u001b[1;32m     24\u001b[0m     y_last, \u001b[38;5;241m=\u001b[39m args\u001b[38;5;241m.\u001b[39mload_result()[\u001b[38;5;241m0\u001b[39m]\n",
      "File \u001b[0;32m~/project/python/label-words-are-anchors/icl/util_classes/arg_classes.py:66\u001b[0m, in \u001b[0;36mDeepArgs.load_result\u001b[0;34m(self)\u001b[0m\n\u001b[1;32m     65\u001b[0m \u001b[38;5;28;01mdef\u001b[39;00m \u001b[38;5;21mload_result\u001b[39m(\u001b[38;5;28mself\u001b[39m):\n\u001b[0;32m---> 66\u001b[0m     \u001b[38;5;28;01mwith\u001b[39;00m \u001b[38;5;28;43mopen\u001b[39;49m\u001b[43m(\u001b[49m\u001b[38;5;28;43mself\u001b[39;49m\u001b[38;5;241;43m.\u001b[39;49m\u001b[43msave_file_name\u001b[49m\u001b[43m,\u001b[49m\u001b[43m \u001b[49m\u001b[38;5;124;43m'\u001b[39;49m\u001b[38;5;124;43mrb\u001b[39;49m\u001b[38;5;124;43m'\u001b[39;49m\u001b[43m)\u001b[49m \u001b[38;5;28;01mas\u001b[39;00m f:\n\u001b[1;32m     67\u001b[0m         \u001b[38;5;28;01mreturn\u001b[39;00m pickle\u001b[38;5;241m.\u001b[39mload(f)\n",
      "\u001b[0;31mFileNotFoundError\u001b[0m: [Errno 2] No such file or directory: '/home/jiantong/project/python/label-words-are-anchors/results/shallow/sst2_gpt2-xl_1_train_test_1000_42_1_first_None'"
     ]
    }
   ],
   "source": [
    "model_name = 'gpt2-xl'\n",
    "layers = [1,3,5,7]\n",
    "demonstration_shot = 1\n",
    "\n",
    "tables = []\n",
    "for layer in layers:\n",
    "    seeds = [42,43,44,45 ,46]\n",
    "    tasks = ['sst2', 'agnews', 'trec', 'emo']\n",
    "    single_table = []\n",
    "\n",
    "    for task in tqdm(tasks):\n",
    "        average_scores = calculate_average_scores(seeds, task,sample_size=1000,model_name=model_name,mask_layer_num=layer,demonstration_shot=demonstration_shot)\n",
    "        row = [task] + list(average_scores)\n",
    "        single_table.append(row)\n",
    "\n",
    "    header = ['Task', 'label loyalty','word loyalty']\n",
    "    tables.append(single_table)"
   ]
  },
  {
   "cell_type": "code",
   "execution_count": null,
   "metadata": {
    "collapsed": false,
    "pycharm": {
     "name": "#%%\n"
    }
   },
   "outputs": [],
   "source": [
    "data = np.array(np.array([[_[1:] for _ in table] for table in tables])) # omit task name"
   ]
  },
  {
   "cell_type": "code",
   "execution_count": null,
   "metadata": {
    "collapsed": false,
    "pycharm": {
     "name": "#%%\n"
    }
   },
   "outputs": [],
   "source": [
    "import numpy as np\n",
    "import matplotlib.pyplot as plt\n",
    "from matplotlib.lines import Line2D\n",
    "\n",
    "mean_data = data.mean(1)\n",
    "layer_num, metric_num, _ = mean_data.shape\n",
    "colors = ['b', 'r', 'g']\n",
    "linestyles = ['-', '--']\n",
    "Metric_name = ['Label Loyalty', 'Word Loyalty']\n",
    "\n",
    "fig, ax = plt.subplots()\n",
    "\n",
    "for i in range(metric_num):\n",
    "    for j in range(2):\n",
    "        ax.plot(range(layer_num), mean_data[:, i, j], color=colors[i], linestyle=linestyles[j])\n",
    "\n",
    "handles = []\n",
    "labels = []\n",
    "for i in range(metric_num):\n",
    "    handles.append(plt.Line2D([], [], color=colors[i], linestyle='-'))\n",
    "    labels.append(f'%s (First)' % Metric_name[i])\n",
    "    handles.append(plt.Line2D([], [], color=colors[i], linestyle='--'))\n",
    "    labels.append(f'%s (Last)' % Metric_name[i])\n",
    "\n",
    "ax.legend(handles, labels)\n",
    "\n",
    "ax.set_xlabel('Isolation Layer Num')\n",
    "ax.set_ylabel('Loyalty')\n",
    "\n",
    "xticks = list(map(str,layers))\n",
    "ax.set_xticks(range(layer_num))\n",
    "ax.set_xticklabels(xticks)\n",
    "\n",
    "plt.show()\n",
    "fig.savefig(f'aggregation_loyalty_{model_name}_{demonstration_shot}.pdf', dpi=300, bbox_inches='tight')"
   ]
  }
 ],
 "metadata": {
  "kernelspec": {
   "display_name": "Python 3.8.16 ('bbtv2')",
   "language": "python",
   "name": "python3"
  },
  "language_info": {
   "codemirror_mode": {
    "name": "ipython",
    "version": 3
   },
   "file_extension": ".py",
   "mimetype": "text/x-python",
   "name": "python",
   "nbconvert_exporter": "python",
   "pygments_lexer": "ipython3",
   "version": "3.10.13"
  },
  "orig_nbformat": 4,
  "vscode": {
   "interpreter": {
    "hash": "fa84ff37f7354d5baacf3f95c54ec9bb9436f05eafb6bc27ab368dac8f7f3b02"
   }
  }
 },
 "nbformat": 4,
 "nbformat_minor": 2
}
